{
 "cells": [
  {
   "cell_type": "code",
   "execution_count": 1,
   "metadata": {
    "collapsed": true,
    "pycharm": {
     "name": "#%%\n"
    }
   },
   "outputs": [
    {
     "name": "stdout",
     "output_type": "stream",
     "text": [
      "a\n"
     ]
    }
   ],
   "source": [
    "print(\"a\")"
   ]
  },
  {
   "cell_type": "code",
   "execution_count": 7,
   "outputs": [
    {
     "name": "stdout",
     "output_type": "stream",
     "text": [
      "22:10\n"
     ]
    }
   ],
   "source": [
    "k = int(input())\n",
    "add_hours = k // 60\n",
    "add_minutes = k % 60\n",
    "start_hour = 21\n",
    "start_minutes = 0\n",
    "result_hour = start_hour + add_hours\n",
    "result_minutes = start_minutes + add_minutes\n",
    "\n",
    "if result_minutes < 10:\n",
    "    result_minutes = '0' + str(result_minutes)\n",
    "\n",
    "print(f'{result_hour}:{result_minutes}')"
   ],
   "metadata": {
    "collapsed": false,
    "pycharm": {
     "name": "#%%\n"
    }
   }
  },
  {
   "cell_type": "code",
   "execution_count": null,
   "outputs": [],
   "source": [
    "n = int(input())\n",
    "a = [[int(i) for i in str(input())] for _ in range(n)]\n",
    "\n",
    "direction = [[0, 1], [0, -1], [1, 0], [-1, 0], [1, -1], [-1, 1], [1, 1], [-1, -1]]\n",
    "\n",
    "max_num = 0\n",
    "\n",
    "for y in range(n):\n",
    "    for x in range(n):\n",
    "        for d_y, d_x in direction:\n",
    "            get_num = str(a[y][x])\n",
    "            n_y = y\n",
    "            n_x = x\n",
    "            for _ in range(n-1):\n",
    "                n_y = (n_y + d_y) % n\n",
    "                n_x = (n_x + d_x) % n\n",
    "                get_num += str(a[n_y][n_x])\n",
    "            max_num = max(int(get_num), max_num)\n",
    "\n",
    "print(max_num)\n"
   ],
   "metadata": {
    "collapsed": false,
    "pycharm": {
     "name": "#%%\n"
    }
   }
  },
  {
   "cell_type": "code",
   "execution_count": null,
   "outputs": [],
   "source": [
    "n, q = map(int, input().split())\n",
    "s = list(input())\n",
    "\n",
    "for _ in range(q):\n",
    "    order, value = map(int, input().split())\n",
    "    if order == 2: print(s[value-1])\n",
    "    elif order == 1: s = s[(-1*value):] + s[:(n-value)]"
   ],
   "metadata": {
    "collapsed": false,
    "pycharm": {
     "name": "#%%\n"
    }
   }
  },
  {
   "cell_type": "code",
   "execution_count": 41,
   "outputs": [
    {
     "name": "stdout",
     "output_type": "stream",
     "text": [
      "['d', 'e', 'a', 'b', 'c']\n"
     ]
    }
   ],
   "source": [
    "a = [\"a\", \"b\", \"c\", \"d\", \"e\"]\n",
    "value = 2\n",
    "n = len(a)\n",
    "print(a[(-1*value):]+a[:(n-value)])"
   ],
   "metadata": {
    "collapsed": false,
    "pycharm": {
     "name": "#%%\n"
    }
   }
  },
  {
   "cell_type": "code",
   "execution_count": null,
   "outputs": [],
   "source": [
    "n, q = map(int, input().split())\n",
    "s = list(input())\n",
    "\n",
    "p = 0\n",
    "\n",
    "for _ in range(q):\n",
    "    order, value = map(int, input().split())\n",
    "    if order == 1:\n",
    "        p += value\n",
    "    else:\n",
    "        print_num = (value-p) % n - 1\n",
    "        print(s[print_num])"
   ],
   "metadata": {
    "collapsed": false,
    "pycharm": {
     "name": "#%%\n"
    }
   }
  },
  {
   "cell_type": "code",
   "execution_count": null,
   "outputs": [],
   "source": [
    "n, x ="
   ],
   "metadata": {
    "collapsed": false,
    "pycharm": {
     "name": "#%%\n"
    }
   }
  }
 ],
 "metadata": {
  "kernelspec": {
   "display_name": "Python 3",
   "language": "python",
   "name": "python3"
  },
  "language_info": {
   "codemirror_mode": {
    "name": "ipython",
    "version": 2
   },
   "file_extension": ".py",
   "mimetype": "text/x-python",
   "name": "python",
   "nbconvert_exporter": "python",
   "pygments_lexer": "ipython2",
   "version": "2.7.6"
  }
 },
 "nbformat": 4,
 "nbformat_minor": 0
}