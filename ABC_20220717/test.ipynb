{
 "cells": [
  {
   "cell_type": "code",
   "execution_count": 2,
   "metadata": {},
   "outputs": [
    {
     "name": "stdout",
     "output_type": "stream",
     "text": [
      "a\n"
     ]
    }
   ],
   "source": [
    "print('a')"
   ]
  },
  {
   "cell_type": "code",
   "execution_count": 6,
   "metadata": {},
   "outputs": [
    {
     "name": "stdout",
     "output_type": "stream",
     "text": [
      "a\n"
     ]
    }
   ],
   "source": [
    "sentence = input()\n",
    "dic = {}\n",
    "for string in sentence:\n",
    "    if string in dic.keys():\n",
    "        dic[string] += 1\n",
    "    else:\n",
    "        dic[string] = 1\n",
    "is_only_str = False\n",
    "for k, v in dic.items():\n",
    "    if v == 1:\n",
    "        is_only_str = True\n",
    "        print(k)\n",
    "        break\n",
    "if not is_only_str:\n",
    "    print(-1)"
   ]
  },
  {
   "cell_type": "code",
   "execution_count": null,
   "metadata": {},
   "outputs": [],
   "source": [
    "n, x, y, z = map(int, input().split())\n",
    "a = list(map(int, input().split()))\n",
    "b = list(map(int, input().split()))\n",
    "student_dic = []\n",
    "ans = []\n",
    "\n",
    "for a_i, b_i, num in zip(a, b, range(1, n+1)):\n",
    "    student_dic.append([num, a_i, b_i, a_i+b_i])\n",
    "    \n",
    "student_dic = sorted(student_dic, key=lambda x: (-x[1], x[0]))\n",
    "for pass_list in student_dic[:x]:\n",
    "    ans.append(pass_list[0])\n",
    "\n",
    "del student_dic[:x]\n",
    "\n",
    "student_dic = sorted(student_dic, key=lambda x: (-x[2], x[0]))\n",
    "for pass_list in student_dic[:y]:\n",
    "    ans.append(pass_list[0])\n",
    "del student_dic[:y]\n",
    "\n",
    "student_dic = sorted(student_dic, key=lambda x: (-x[3], x[0]))\n",
    "for pass_list in student_dic[:z]:\n",
    "    ans.append(pass_list[0])\n",
    "del student_dic[:z]\n",
    "\n",
    "ans = sorted(ans)\n",
    "\n",
    "for num in ans:\n",
    "    print(num)\n",
    "\n",
    "\n",
    " "
   ]
  },
  {
   "cell_type": "code",
   "execution_count": 13,
   "metadata": {},
   "outputs": [
    {
     "name": "stdout",
     "output_type": "stream",
     "text": [
      "{1: 10, 2: 0, 3: 0, 4: 0, 5: 0, 6: 0, 7: 0, 8: 0, 9: 0, 10: 0} {1: 32, 2: 0, 3: 0, 4: 0, 5: 0, 6: 0, 7: 0, 8: 0, 9: 0, 10: 0}\n",
      "32\n"
     ]
    }
   ],
   "source": [
    "n, x, y = map(int, input().split())\n",
    "red_dic = {1:0, 2:0, 3:0, 4:0, 5:0, 6:0, 7:0, 8:0, 9:0, 10:0}\n",
    "blue_dic = {1:0, 2:0, 3:0, 4:0, 5:0, 6:0, 7:0, 8:0, 9:0, 10:0}\n",
    "red_dic[n] = 1\n",
    "\n",
    "def max_in_dic(dic):\n",
    "    max_num = 0\n",
    "    for k, v in dic.items():\n",
    "        if v >= 1:\n",
    "           max_num = max(max_num, k) \n",
    "    return max_num\n",
    "\n",
    "def resolute(red_dic, blue_dic):\n",
    "    r_n = max_in_dic(red_dic)\n",
    "    if r_n >= 3:\n",
    "        red_dic[r_n-2] += red_dic[r_n]*2\n",
    "        blue_dic[r_n-1] += red_dic[r_n]*(x+y+1)\n",
    "        red_dic[r_n] = 0\n",
    "    elif r_n == 2:\n",
    "        blue_dic[2] += red_dic[r_n] * x\n",
    "        red_dic[r_n] = 0\n",
    "        \n",
    "\n",
    "    b_n = max_in_dic(blue_dic)\n",
    "    if b_n >= 2:\n",
    "        blue_dic[b_n-1] += blue_dic[b_n] * y\n",
    "        red_dic[b_n-1] += blue_dic[b_n]\n",
    "        blue_dic[b_n] = 0\n",
    "        return resolute(red_dic, blue_dic) \n",
    "    elif b_n == 1:\n",
    "        return blue_dic[1]\n",
    "\n",
    "\n",
    "\n",
    "if n == 1:\n",
    "    print(0)\n",
    "elif n == 2:\n",
    "    print(x*y)\n",
    "else:\n",
    "    print(resolute(red_dic, blue_dic))  "
   ]
  }
 ],
 "metadata": {
  "kernelspec": {
   "display_name": "Python 3.9.13 64-bit",
   "language": "python",
   "name": "python3"
  },
  "language_info": {
   "codemirror_mode": {
    "name": "ipython",
    "version": 3
   },
   "file_extension": ".py",
   "mimetype": "text/x-python",
   "name": "python",
   "nbconvert_exporter": "python",
   "pygments_lexer": "ipython3",
   "version": "3.9.13"
  },
  "orig_nbformat": 4,
  "vscode": {
   "interpreter": {
    "hash": "6ecdebf77f2ee3a47348d003f751c63e810ca996c1c68d1179f338200fa83b34"
   }
  }
 },
 "nbformat": 4,
 "nbformat_minor": 2
}
