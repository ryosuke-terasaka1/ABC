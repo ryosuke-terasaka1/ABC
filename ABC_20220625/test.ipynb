{
 "cells": [
  {
   "cell_type": "code",
   "execution_count": 4,
   "outputs": [
    {
     "name": "stdout",
     "output_type": "stream",
     "text": [
      "['a', 'a', 'a', 'a', 'a', 'a', 'a', 'a']\n"
     ]
    }
   ],
   "source": [
    "b = []\n",
    "a = ['a' for _ in range(8)]\n",
    "print(a + b)"
   ],
   "metadata": {
    "collapsed": false,
    "pycharm": {
     "name": "#%%\n"
    }
   }
  },
  {
   "cell_type": "code",
   "execution_count": 7,
   "outputs": [
    {
     "name": "stdout",
     "output_type": "stream",
     "text": [
      "F\n"
     ]
    }
   ],
   "source": [
    "n, x = map(int, input().split())\n",
    "x -= 1\n",
    "\n",
    "str_list = [chr(ord(\"a\")+i) for i in range(26)]\n",
    "\n",
    "extend_str_list = []\n",
    "\n",
    "for str in str_list:\n",
    "    extend_str_list += [str for _ in range(n)]\n",
    "\n",
    "print(extend_str_list[x].upper())"
   ],
   "metadata": {
    "collapsed": false,
    "pycharm": {
     "name": "#%%\n"
    }
   }
  },
  {
   "cell_type": "code",
   "execution_count": 8,
   "outputs": [
    {
     "ename": "ValueError",
     "evalue": "not enough values to unpack (expected 3, got 0)",
     "output_type": "error",
     "traceback": [
      "\u001B[0;31m---------------------------------------------------------------------------\u001B[0m",
      "\u001B[0;31mValueError\u001B[0m                                Traceback (most recent call last)",
      "Input \u001B[0;32mIn [8]\u001B[0m, in \u001B[0;36m<cell line: 1>\u001B[0;34m()\u001B[0m\n\u001B[0;32m----> 1\u001B[0m n, k, q \u001B[38;5;241m=\u001B[39m \u001B[38;5;28mmap\u001B[39m(\u001B[38;5;28mint\u001B[39m, \u001B[38;5;28minput\u001B[39m()\u001B[38;5;241m.\u001B[39msplit())\n\u001B[1;32m      3\u001B[0m a \u001B[38;5;241m=\u001B[39m \u001B[38;5;28mlist\u001B[39m(\u001B[38;5;28mmap\u001B[39m(\u001B[38;5;28mint\u001B[39m, \u001B[38;5;28minput\u001B[39m()\u001B[38;5;241m.\u001B[39msplit()))\n\u001B[1;32m      5\u001B[0m l \u001B[38;5;241m=\u001B[39m \u001B[38;5;28mlist\u001B[39m(\u001B[38;5;28mmap\u001B[39m(\u001B[38;5;28mint\u001B[39m, \u001B[38;5;28minput\u001B[39m()\u001B[38;5;241m.\u001B[39msplit()))\n",
      "\u001B[0;31mValueError\u001B[0m: not enough values to unpack (expected 3, got 0)"
     ]
    }
   ],
   "source": [
    "n, k, q = map(int, input().split())\n",
    "\n",
    "a = list(map(int, input().split()))\n",
    "\n",
    "l = list(map(int, input().split()))\n",
    "\n",
    "n_list = [0 for _ in range(n)]\n",
    "\n",
    "for i in range(k):\n",
    "    n_list[a[i]-1] = 1\n",
    "\n",
    "for l_value in l:\n",
    "    index = 0\n",
    "    for i in range(n):\n",
    "        if n_list[i] == 1:\n",
    "            index += 1\n",
    "            if index == l_value:\n",
    "                if i == n-1:\n",
    "                    continue\n",
    "                else:\n",
    "                    if n_list[i+1]:\n",
    "                        continue\n",
    "                    else:\n",
    "                        n_list[i], n_list[i+1] = n_list[i+1], n_list[i]\n",
    "\n",
    "result = []\n",
    "\n",
    "for i in range(n):\n",
    "    if n_list[i]:\n",
    "        result.append(i+1)\n",
    "\n",
    "print(*result)"
   ],
   "metadata": {
    "collapsed": false,
    "pycharm": {
     "name": "#%%\n"
    }
   }
  },
  {
   "cell_type": "code",
   "execution_count": null,
   "outputs": [],
   "source": [
    "N = int(input())\n",
    "S = input().strip()\n",
    "W = []\n",
    "max_c = 0\n",
    "max_a = 0\n",
    "\n",
    "i = 0\n",
    "for w in input().split():\n",
    "    W.append((int(w), S[i]))\n",
    "    if S[i] == '1':\n",
    "        max_a += 1\n",
    "    i += 1\n",
    "\n",
    "W = sorted(W, key=lambda x: x[0])\n",
    "max_score = max_a\n",
    "score = max_a\n",
    "\n",
    "i = 0\n",
    "while len(W) > i:\n",
    "    x = W[i][0]\n",
    "    while len(W) > i and W[i][0] == x:\n",
    "        if W[i][1] == '0':\n",
    "            score += 1\n",
    "        else:\n",
    "            score -= 1\n",
    "        i+=1\n",
    "    if max_score < score:\n",
    "        max_score = score\n",
    "\n",
    "print(max_score)"
   ],
   "metadata": {
    "collapsed": false,
    "pycharm": {
     "name": "#%%\n"
    }
   }
  }
 ],
 "metadata": {
  "kernelspec": {
   "display_name": "Python 3",
   "language": "python",
   "name": "python3"
  },
  "language_info": {
   "codemirror_mode": {
    "name": "ipython",
    "version": 2
   },
   "file_extension": ".py",
   "mimetype": "text/x-python",
   "name": "python",
   "nbconvert_exporter": "python",
   "pygments_lexer": "ipython2",
   "version": "2.7.6"
  }
 },
 "nbformat": 4,
 "nbformat_minor": 0
}